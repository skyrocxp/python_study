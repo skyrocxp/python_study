{
 "cells": [
  {
   "cell_type": "code",
   "execution_count": 1,
   "metadata": {},
   "outputs": [
    {
     "name": "stdout",
     "output_type": "stream",
     "text": [
      "Hello world\n"
     ]
    }
   ],
   "source": [
    "print(\"Hello world\")"
   ]
  },
  {
   "cell_type": "markdown",
   "metadata": {
    "scrolled": true
   },
   "source": [
    "# 注释\n",
    "- 机器不执行注释\n",
    "- 注释一般用自然语言书写\n",
    "- 注释的写法：\n",
    "    - 行注释：以井号（#）开头，可以单独成行，也可以在某行代码后面\n",
    "    - 块注释：好几行代码或者内容，以三个连续的单引号或者三引号开始和结束，中间的任何内容都为注释内容\n",
    "- 注释的原则：\n",
    "    - 恰当\n",
    "    - 不是越多越好\n",
    "    - 复杂算法\n",
    "    - 不易读懂的代码"
   ]
  },
  {
   "cell_type": "code",
   "execution_count": 11,
   "metadata": {},
   "outputs": [
    {
     "name": "stdout",
     "output_type": "stream",
     "text": [
      "你看不见注释\n"
     ]
    }
   ],
   "source": [
    "# 这是一行注释\n",
    "\n",
    "'''\n",
    "这\n",
    "是\n",
    "一\n",
    "块\n",
    "注\n",
    "释\n",
    "'''\n",
    "print(\"你看不见注释\") #真的看不见"
   ]
  },
  {
   "cell_type": "markdown",
   "metadata": {},
   "source": [
    "# 变量\n",
    "- 变量就是可以重复使用的一个量或者一个代号\n",
    "- 变量的命名规则\n",
    "    - 变量命名可以包含数字，大小写字母，下划线或者其他，推荐使用前三种\n",
    "    - 数字不可以开头\n",
    "        - 4man，5pp不可以\n",
    "        - man4，pp5可以\n",
    "    - 一般在python中，以下划线开头的内容具有特殊含义，不建议使用\n",
    "        - 比如 _age,_name,理论上可以单强烈不推荐，包括一个下划线和两个下划线开头。\n",
    "    - python大小写敏感\n",
    "        - 比如tian和Tian不是一个变量名称\n",
    "    - 推荐\n",
    "        - 使用具有固定含义的英文单词或者缩写，srv=server，skt=socket一般以posix命名规则为主\n",
    "        - 驼峰命名法\n",
    "        - 名称以单词自动连接，且每个单词首字母大写\n",
    "            - 大驼峰，每个单词第一个字母均大写\n",
    "                - 在python中，一般给类命名\n",
    "                - MyFirstLove，IntOne\n",
    "            - 小驼峰，类似大驼峰，但第一个字母小写\n",
    "                - 在python中一般给普通函数或者变量命名\n",
    "                - myFirstLove，intOne\n",
    "            - posix写法\n",
    "                - 多个单词用下划线连接\n",
    "                - 单词全部小写\n",
    "                - my_first_love,int_one\n",
    "        - 保留字和关键字\n",
    "            - 变量命名必须避开，不能跟关键字和保留字重复\n",
    "            - class，def，break，for"
   ]
  },
  {
   "cell_type": "code",
   "execution_count": 12,
   "metadata": {},
   "outputs": [
    {
     "name": "stdout",
     "output_type": "stream",
     "text": [
      "['False', 'None', 'True', 'and', 'as', 'assert', 'async', 'await', 'break', 'class', 'continue', 'def', 'del', 'elif', 'else', 'except', 'finally', 'for', 'from', 'global', 'if', 'import', 'in', 'is', 'lambda', 'nonlocal', 'not', 'or', 'pass', 'raise', 'return', 'try', 'while', 'with', 'yield']\n"
     ]
    }
   ],
   "source": [
    "# 查看关键字的方法\n",
    "import keyword #引入关键字模块\n",
    "#打印出系统全部关键字\n",
    "print(keyword.kwlist)"
   ]
  }
 ],
 "metadata": {
  "kernelspec": {
   "display_name": "Python 3",
   "language": "python",
   "name": "python3"
  },
  "language_info": {
   "codemirror_mode": {
    "name": "ipython",
    "version": 3
   },
   "file_extension": ".py",
   "mimetype": "text/x-python",
   "name": "python",
   "nbconvert_exporter": "python",
   "pygments_lexer": "ipython3",
   "version": "3.7.1"
  }
 },
 "nbformat": 4,
 "nbformat_minor": 2
}
